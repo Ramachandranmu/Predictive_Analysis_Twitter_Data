{
 "cells": [
  {
   "cell_type": "code",
   "execution_count": 2,
   "id": "5002de1a",
   "metadata": {},
   "outputs": [],
   "source": [
    "import nltk\n",
    "import pandas as pd\n",
    "import yfinance as yf\n",
    "import numpy as np\n",
    "import string\n",
    "import datetime\n",
    "import re\n",
    "import math\n",
    "import joblib\n",
    "import matplotlib.pyplot as plt\n",
    "from sklearn.pipeline import Pipeline\n",
    "from sklearn.model_selection import train_test_split\n",
    "from sklearn.metrics import classification_report, confusion_matrix, accuracy_score\n",
    "from sklearn.naive_bayes import MultinomialNB\n",
    "from sklearn.model_selection import KFold, cross_val_score\n",
    "from sklearn.feature_extraction.text import CountVectorizer\n",
    "from sklearn.feature_extraction.text import TfidfTransformer\n",
    "from sklearn.model_selection import GridSearchCV\n",
    "from nltk.corpus import stopwords\n",
    "from nltk.tokenize import TweetTokenizer\n",
    "from nltk.stem import WordNetLemmatizer\n",
    "from nltk.sentiment.vader import SentimentIntensityAnalyzer\n",
    "\n",
    "sid = SentimentIntensityAnalyzer()"
   ]
  },
  {
   "cell_type": "code",
   "execution_count": 3,
   "id": "77029262",
   "metadata": {},
   "outputs": [],
   "source": [
    "#Reading the twitter data from the csv\n",
    "tweets_df = pd.read_csv('Tweet.csv')"
   ]
  },
  {
   "cell_type": "code",
   "execution_count": 4,
   "id": "83278e85",
   "metadata": {},
   "outputs": [],
   "source": [
    "#Storing the twitter data onto a dataframe\n",
    "aapl_test = tweets_df[tweets_df['body'].str.contains('AAPL')]"
   ]
  },
  {
   "cell_type": "code",
   "execution_count": 5,
   "id": "34fd47d9",
   "metadata": {},
   "outputs": [
    {
     "name": "stderr",
     "output_type": "stream",
     "text": [
      "<ipython-input-5-29c6665e6d02>:5: SettingWithCopyWarning: \n",
      "A value is trying to be set on a copy of a slice from a DataFrame.\n",
      "Try using .loc[row_indexer,col_indexer] = value instead\n",
      "\n",
      "See the caveats in the documentation: https://pandas.pydata.org/pandas-docs/stable/user_guide/indexing.html#returning-a-view-versus-a-copy\n",
      "  aapl_test['post_date'] = aapl_test['post_date'].apply(date_transformation)\n"
     ]
    }
   ],
   "source": [
    "#date_transformation transforms the post_date column from epoch_timesteps to standard datetime \n",
    "def date_transformation(x):\n",
    "    return datetime.datetime.fromtimestamp(x).date()\n",
    "\n",
    "aapl_test['post_date'] = aapl_test['post_date'].apply(date_transformation)"
   ]
  },
  {
   "cell_type": "markdown",
   "id": "a98c1450",
   "metadata": {},
   "source": [
    "## VADER Sentiment Analysis"
   ]
  },
  {
   "cell_type": "code",
   "execution_count": 6,
   "id": "8d61c34a",
   "metadata": {},
   "outputs": [
    {
     "name": "stdout",
     "output_type": "stream",
     "text": [
      "Start Time : 2021-12-13 04:31:24.824245\n"
     ]
    },
    {
     "name": "stderr",
     "output_type": "stream",
     "text": [
      "<ipython-input-6-f00484d252af>:2: SettingWithCopyWarning: \n",
      "A value is trying to be set on a copy of a slice from a DataFrame.\n",
      "Try using .loc[row_indexer,col_indexer] = value instead\n",
      "\n",
      "See the caveats in the documentation: https://pandas.pydata.org/pandas-docs/stable/user_guide/indexing.html#returning-a-view-versus-a-copy\n",
      "  aapl_test['scores'] = aapl_test['body'].apply(lambda review: sid.polarity_scores(review))\n",
      "<ipython-input-6-f00484d252af>:3: SettingWithCopyWarning: \n",
      "A value is trying to be set on a copy of a slice from a DataFrame.\n",
      "Try using .loc[row_indexer,col_indexer] = value instead\n",
      "\n",
      "See the caveats in the documentation: https://pandas.pydata.org/pandas-docs/stable/user_guide/indexing.html#returning-a-view-versus-a-copy\n",
      "  aapl_test['compound']  = aapl_test['scores'].apply(lambda score_dict: score_dict['compound'])\n"
     ]
    },
    {
     "name": "stdout",
     "output_type": "stream",
     "text": [
      "End Time : 2021-12-13 04:35:35.716171\n"
     ]
    },
    {
     "name": "stderr",
     "output_type": "stream",
     "text": [
      "<ipython-input-6-f00484d252af>:4: SettingWithCopyWarning: \n",
      "A value is trying to be set on a copy of a slice from a DataFrame.\n",
      "Try using .loc[row_indexer,col_indexer] = value instead\n",
      "\n",
      "See the caveats in the documentation: https://pandas.pydata.org/pandas-docs/stable/user_guide/indexing.html#returning-a-view-versus-a-copy\n",
      "  aapl_test['sentiment'] = aapl_test['scores'].apply(lambda score_dict: 'pos' if score_dict['pos'] > score_dict['neg']\n"
     ]
    }
   ],
   "source": [
    "print(\"Start Time : {}\".format(datetime.datetime.now()))\n",
    "aapl_test['scores'] = aapl_test['body'].apply(lambda review: sid.polarity_scores(review))\n",
    "aapl_test['compound']  = aapl_test['scores'].apply(lambda score_dict: score_dict['compound'])\n",
    "aapl_test['sentiment'] = aapl_test['scores'].apply(lambda score_dict: 'pos' if score_dict['pos'] > score_dict['neg'] \n",
    "                                                   else ('neg' if score_dict['neg'] > score_dict['pos'] else 'neu'))\n",
    "print(\"End Time : {}\".format(datetime.datetime.now()))"
   ]
  },
  {
   "cell_type": "markdown",
   "id": "dcc7bdbe",
   "metadata": {},
   "source": [
    "### Calculating the number of positive, negative and neutral tweets"
   ]
  },
  {
   "cell_type": "code",
   "execution_count": 7,
   "id": "7587bd37",
   "metadata": {},
   "outputs": [
    {
     "name": "stdout",
     "output_type": "stream",
     "text": [
      "Number of positive tagged sentences are : 526841\n",
      "Number of negative tagged sentences are : 214720\n",
      "Number of neutral tagged sentences are : 642798\n",
      "Total length of the data is : 1384359\n"
     ]
    }
   ],
   "source": [
    "positives = aapl_test['sentiment'][aapl_test.sentiment == 'pos']\n",
    "negatives = aapl_test['sentiment'][aapl_test.sentiment == 'neg']\n",
    "neutrals = aapl_test['sentiment'][aapl_test.sentiment == 'neu']\n",
    "print('Number of positive tagged sentences are : {}'.format(len(positives)))\n",
    "print('Number of negative tagged sentences are : {}'.format(len(negatives)))\n",
    "print('Number of neutral tagged sentences are : {}'.format(len(neutrals)))\n",
    "print('Total length of the data is : {}'.format(aapl_test.shape[0]))"
   ]
  },
  {
   "cell_type": "code",
   "execution_count": 8,
   "id": "8926ce47",
   "metadata": {},
   "outputs": [
    {
     "name": "stderr",
     "output_type": "stream",
     "text": [
      "<ipython-input-8-bf18716a5d16>:4: SettingWithCopyWarning: \n",
      "A value is trying to be set on a copy of a slice from a DataFrame.\n",
      "Try using .loc[row_indexer,col_indexer] = value instead\n",
      "\n",
      "See the caveats in the documentation: https://pandas.pydata.org/pandas-docs/stable/user_guide/indexing.html#returning-a-view-versus-a-copy\n",
      "  aapl_test['word count'] = aapl_test['body'].apply(word_count)\n"
     ]
    }
   ],
   "source": [
    "def word_count(sentence):\n",
    "    return len(sentence.split())\n",
    "    \n",
    "aapl_test['word count'] = aapl_test['body'].apply(word_count)"
   ]
  },
  {
   "cell_type": "markdown",
   "id": "cbbbd707",
   "metadata": {},
   "source": [
    "### Text Preprocessing for Sentiment Analysis"
   ]
  },
  {
   "cell_type": "code",
   "execution_count": 9,
   "id": "7eff7769",
   "metadata": {},
   "outputs": [
    {
     "name": "stdout",
     "output_type": "stream",
     "text": [
      "Start Time : 2021-12-13 04:36:09.943712\n",
      "End Time : 2021-12-13 04:36:38.637455\n"
     ]
    },
    {
     "name": "stderr",
     "output_type": "stream",
     "text": [
      "<ipython-input-9-3e53f439fadd>:29: SettingWithCopyWarning: \n",
      "A value is trying to be set on a copy of a slice from a DataFrame.\n",
      "Try using .loc[row_indexer,col_indexer] = value instead\n",
      "\n",
      "See the caveats in the documentation: https://pandas.pydata.org/pandas-docs/stable/user_guide/indexing.html#returning-a-view-versus-a-copy\n",
      "  aapl_test['body'] = aapl_test['body'].apply(text_preprocess_tweets)\n"
     ]
    }
   ],
   "source": [
    "print(\"Start Time : {}\".format(datetime.datetime.now()))\n",
    "\n",
    "# text_preprocess_tweets method uses regular expressions to perform text preprocessing\n",
    "def text_preprocess_tweets(tweet):\n",
    "    # Removing HTML special entities\n",
    "    tweet = re.sub(r'\\&\\w*;', '', tweet)\n",
    "    #Converting @username to AT_USER\n",
    "    tweet = re.sub('@[^\\s]+','',tweet)\n",
    "    # Removing tickers\n",
    "    tweet = re.sub(r'\\$\\w*', '', tweet)\n",
    "    # To lowercase\n",
    "    tweet = tweet.lower()\n",
    "    # Removing hyperlinks\n",
    "    tweet = re.sub(r'https?:\\/\\/.*\\/\\w*', '', tweet)\n",
    "    # Removing hashtags\n",
    "    tweet = re.sub(r'#\\w*', '', tweet)\n",
    "    # Removing Punctuations \n",
    "    tweet = re.sub(r'[' + string.punctuation.replace('@', '') + ']+', ' ', tweet)\n",
    "    # Removing words with 2 or fewer letters\n",
    "    tweet = re.sub(r'\\b\\w{1,2}\\b', '', tweet)\n",
    "    # Removing whitespace \n",
    "    tweet = re.sub(r'\\s\\s+', ' ', tweet)\n",
    "    # Removing single space at the front of the tweet\n",
    "    tweet = tweet.lstrip(' ') \n",
    "    # Removing characters beyond BMP(Basic Multilingual Plane) of Unicode\n",
    "    tweet = ''.join(c for c in tweet if c <= '\\uFFFF') \n",
    "    return tweet\n",
    "\n",
    "aapl_test['body'] = aapl_test['body'].apply(text_preprocess_tweets)\n",
    "\n",
    "print(\"End Time : {}\".format(datetime.datetime.now()))"
   ]
  },
  {
   "cell_type": "code",
   "execution_count": 10,
   "id": "e8f29c50",
   "metadata": {
    "scrolled": true
   },
   "outputs": [
    {
     "name": "stdout",
     "output_type": "stream",
     "text": [
      "Start Time : 2021-12-13 04:37:09.550435\n",
      "End Time : 2021-12-13 05:13:26.090762\n"
     ]
    },
    {
     "name": "stderr",
     "output_type": "stream",
     "text": [
      "<ipython-input-10-56d44f13351a>:10: SettingWithCopyWarning: \n",
      "A value is trying to be set on a copy of a slice from a DataFrame.\n",
      "Try using .loc[row_indexer,col_indexer] = value instead\n",
      "\n",
      "See the caveats in the documentation: https://pandas.pydata.org/pandas-docs/stable/user_guide/indexing.html#returning-a-view-versus-a-copy\n",
      "  aapl_test['tokens'] = aapl_test['body'].apply(tokenize_process)\n"
     ]
    }
   ],
   "source": [
    "# tokenize_process removes any remaining punctuations and stopwords\n",
    "def tokenize_process(raw_text):\n",
    "    nopunc = [char for char in list(raw_text) if char not in string.punctuation]\n",
    "    nopunc = ''.join(nopunc)\n",
    "    return [word for word in nopunc.lower().split() if word.lower() not in stopwords.words('english')]\n",
    "\n",
    "#aapl_test = aapl_test.copy()\n",
    "\n",
    "print(\"Start Time : {}\".format(datetime.datetime.now()))\n",
    "aapl_test['tokens'] = aapl_test['body'].apply(tokenize_process) \n",
    "print(\"End Time : {}\".format(datetime.datetime.now()))"
   ]
  },
  {
   "cell_type": "markdown",
   "id": "96d48df0",
   "metadata": {},
   "source": [
    "## Naive Bayes Classifier"
   ]
  },
  {
   "cell_type": "code",
   "execution_count": 12,
   "id": "4da43a4c",
   "metadata": {},
   "outputs": [],
   "source": [
    "# The feature to the Naive Bayes model are the tokens in the column 'body' of the dataframe\n",
    "X = aapl_test['body']\n",
    "# The labels are the sentiment tags\n",
    "y = aapl_test['sentiment']"
   ]
  },
  {
   "cell_type": "code",
   "execution_count": 13,
   "id": "25727e0d",
   "metadata": {},
   "outputs": [
    {
     "name": "stdout",
     "output_type": "stream",
     "text": [
      "Start Time : 2021-12-13 05:18:23.544586\n",
      "Fitting 10 folds for each of 8 candidates, totalling 80 fits\n",
      "\n",
      "Best Model: 0.866391 using {'bow__ngram_range': (1, 2), 'classifier__alpha': 0.01, 'tfidf__use_idf': False}\n",
      "\n",
      "\n",
      "Mean: 0.835430 Stdev:(0.000793) with: {'bow__ngram_range': (1, 1), 'classifier__alpha': 0.01, 'tfidf__use_idf': True}\n",
      "Mean: 0.837950 Stdev:(0.000554) with: {'bow__ngram_range': (1, 1), 'classifier__alpha': 0.01, 'tfidf__use_idf': False}\n",
      "Mean: 0.834316 Stdev:(0.000829) with: {'bow__ngram_range': (1, 1), 'classifier__alpha': 0.001, 'tfidf__use_idf': True}\n",
      "Mean: 0.836105 Stdev:(0.000565) with: {'bow__ngram_range': (1, 1), 'classifier__alpha': 0.001, 'tfidf__use_idf': False}\n",
      "Mean: 0.857149 Stdev:(0.000874) with: {'bow__ngram_range': (1, 2), 'classifier__alpha': 0.01, 'tfidf__use_idf': True}\n",
      "Mean: 0.866391 Stdev:(0.001173) with: {'bow__ngram_range': (1, 2), 'classifier__alpha': 0.01, 'tfidf__use_idf': False}\n",
      "Mean: 0.850059 Stdev:(0.000921) with: {'bow__ngram_range': (1, 2), 'classifier__alpha': 0.001, 'tfidf__use_idf': True}\n",
      "Mean: 0.858047 Stdev:(0.000917) with: {'bow__ngram_range': (1, 2), 'classifier__alpha': 0.001, 'tfidf__use_idf': False}\n",
      "End Time : 2021-12-13 05:45:51.682624\n"
     ]
    }
   ],
   "source": [
    "#splitting the dataset into training and test using the train_test_split method\n",
    "X_train, X_test, y_train, y_test = train_test_split(X,y,test_size=0.25,random_state=7196)\n",
    "\n",
    "#building the pipeline for grid search\n",
    "pipeline = Pipeline([\n",
    "    ('bow', CountVectorizer(strip_accents='ascii',\n",
    "                            stop_words='english',\n",
    "                            lowercase=True)),  \n",
    "    ('tfidf', TfidfTransformer()),  \n",
    "    ('classifier', MultinomialNB()),  \n",
    "])\n",
    "#using parameters fror the param grid\n",
    "parameters = {'bow__ngram_range': [(1, 1), (1, 2)],\n",
    "              'tfidf__use_idf': (True, False),\n",
    "              'classifier__alpha': (1e-2, 1e-3),\n",
    "             }\n",
    "print(\"Start Time : {}\".format(datetime.datetime.now()))\n",
    "# do 10-fold cross validation for each of the 8 possible combinations of the above params\n",
    "grid = GridSearchCV(pipeline, cv=10, param_grid=parameters, verbose=1)\n",
    "grid.fit(X_train,y_train)\n",
    "print(\"\\nBest Model: %f using %s\" % (grid.best_score_, grid.best_params_))\n",
    "print('\\n')\n",
    "mean_values = grid.cv_results_['mean_test_score']\n",
    "std_values = grid.cv_results_['std_test_score']\n",
    "params = grid.cv_results_['params']\n",
    "for mean, std, param in zip(mean_values, std_values, params):\n",
    "    print(\"Mean: %f Stdev:(%f) with: %r\" % (mean, std, param))\n",
    "print(\"End Time : {}\".format(datetime.datetime.now()))"
   ]
  },
  {
   "cell_type": "code",
   "execution_count": 14,
   "id": "f84ccb33",
   "metadata": {},
   "outputs": [
    {
     "name": "stdout",
     "output_type": "stream",
     "text": [
      "accuracy score:  0.8685630905255858\n",
      "\n",
      "\n",
      "confusion matrix: \n",
      " [[ 40748   4947   7755]\n",
      " [  4777 144299  11835]\n",
      " [  6877   9298 115554]]\n",
      "\n",
      "\n",
      "              precision    recall  f1-score   support\n",
      "\n",
      "         neg       0.78      0.76      0.77     53450\n",
      "         neu       0.91      0.90      0.90    160911\n",
      "         pos       0.86      0.88      0.87    131729\n",
      "\n",
      "    accuracy                           0.87    346090\n",
      "   macro avg       0.85      0.85      0.85    346090\n",
      "weighted avg       0.87      0.87      0.87    346090\n",
      "\n"
     ]
    }
   ],
   "source": [
    "# save best model to current working directory\n",
    "joblib.dump(grid, \"twitter_sentiment.pkl\")\n",
    "# load from file and predict using the best configs found in the CV step\n",
    "model_NB = joblib.load(\"twitter_sentiment.pkl\" )\n",
    "# get predictions from best model above\n",
    "y_preds = model_NB.predict(X_test)\n",
    "print('accuracy score: ',accuracy_score(y_test, y_preds))\n",
    "print('\\n')\n",
    "print('confusion matrix: \\n',confusion_matrix(y_test,y_preds))\n",
    "print('\\n')\n",
    "print(classification_report(y_test, y_preds))"
   ]
  },
  {
   "cell_type": "markdown",
   "id": "7e4cb2f1",
   "metadata": {},
   "source": [
    "## Phase 3: Preparing the data for Multivariate Time series Analysis"
   ]
  },
  {
   "cell_type": "code",
   "execution_count": 15,
   "id": "4a166a66",
   "metadata": {},
   "outputs": [],
   "source": [
    "positive_tweets = aapl_test[aapl_test['sentiment'] == 'pos']\n",
    "negative_tweets = aapl_test[aapl_test['sentiment'] == 'neg']\n",
    "neutral_tweets = aapl_test[aapl_test['sentiment'] == 'neu']"
   ]
  },
  {
   "cell_type": "code",
   "execution_count": 16,
   "id": "29bec45b",
   "metadata": {},
   "outputs": [
    {
     "data": {
      "text/plain": [
       "post_date   sentiment\n",
       "2015-01-01  neg           32\n",
       "            neu          135\n",
       "            pos          121\n",
       "2015-01-02  neg          144\n",
       "            neu          397\n",
       "                        ... \n",
       "2019-12-30  neu          273\n",
       "            pos          318\n",
       "2019-12-31  neg           84\n",
       "            neu          274\n",
       "            pos          268\n",
       "Length: 5478, dtype: int64"
      ]
     },
     "execution_count": 16,
     "metadata": {},
     "output_type": "execute_result"
    }
   ],
   "source": [
    "# tweets_distribution holds the total number of positive, negative and neutral tweets for each day from 2015-01-01 to 2019-12-31\n",
    "tweets_distribution = aapl_test.groupby(['post_date', 'sentiment']).size()\n",
    "tweets_distribution"
   ]
  },
  {
   "cell_type": "code",
   "execution_count": 17,
   "id": "375ca2f5",
   "metadata": {},
   "outputs": [],
   "source": [
    "import yfinance as yf\n",
    "apple_ticker = 'AAPL'\n",
    "\n",
    "#importing the data corresponding to the ticker symbol from Yahoo finance\n",
    "apple_ticker = yf.Ticker(apple_ticker)\n",
    "\n",
    "#importing the historical stock prices for this ticker\n",
    "hist = apple_ticker.history(start='2015-01-01', end='2020-01-01', interval='1d')"
   ]
  },
  {
   "cell_type": "code",
   "execution_count": 19,
   "id": "ff5a011f",
   "metadata": {},
   "outputs": [],
   "source": [
    "id_1 = pd.date_range('01-01-2015', '31-12-2019')\n",
    "apple_test_date_fill = hist\n",
    "apple_test_date_fill = apple_test_date_fill.reindex(id_1, fill_value=np.nan)\n",
    "apple_test_date_fill.ffill(inplace=True)\n",
    "apple_test_date_fill['b_score'] = 0.0\n",
    "apple_test_date_fill['agreement_score'] = 0.0"
   ]
  },
  {
   "cell_type": "code",
   "execution_count": 20,
   "id": "39f58934",
   "metadata": {},
   "outputs": [],
   "source": [
    "apple_test_date_fill.reset_index(inplace=True)\n",
    "apple_test_date_fill = apple_test_date_fill.rename(columns = {'index':'Date'})"
   ]
  },
  {
   "cell_type": "code",
   "execution_count": 21,
   "id": "8f820041",
   "metadata": {},
   "outputs": [
    {
     "name": "stderr",
     "output_type": "stream",
     "text": [
      "<ipython-input-21-1b5ae5725c35>:9: SettingWithCopyWarning: \n",
      "A value is trying to be set on a copy of a slice from a DataFrame\n",
      "\n",
      "See the caveats in the documentation: https://pandas.pydata.org/pandas-docs/stable/user_guide/indexing.html#returning-a-view-versus-a-copy\n",
      "  apple_test_date_fill['b_score'][i] = np.log(numerator/denominator)\n",
      "<ipython-input-21-1b5ae5725c35>:10: SettingWithCopyWarning: \n",
      "A value is trying to be set on a copy of a slice from a DataFrame\n",
      "\n",
      "See the caveats in the documentation: https://pandas.pydata.org/pandas-docs/stable/user_guide/indexing.html#returning-a-view-versus-a-copy\n",
      "  apple_test_date_fill['agreement_score'][i] = 1-math.sqrt(1-(num_2/den_2))\n"
     ]
    }
   ],
   "source": [
    "positive_tweets_count = positive_tweets.groupby(['post_date']).size()\n",
    "negative_tweets_count = negative_tweets.groupby(['post_date']).size()\n",
    "\n",
    "for i in range(len(apple_test_date_fill)):\n",
    "    numerator = 1+positive_tweets_count[i]\n",
    "    denominator = 1+negative_tweets_count[i]\n",
    "    num_2 = positive_tweets_count[i]-negative_tweets_count[i]\n",
    "    den_2 = positive_tweets_count[i]+negative_tweets_count[i]\n",
    "    apple_test_date_fill['b_score'][i] = np.log(numerator/denominator)\n",
    "    apple_test_date_fill['agreement_score'][i] = 1-math.sqrt(1-(num_2/den_2))"
   ]
  },
  {
   "cell_type": "code",
   "execution_count": 22,
   "id": "d38dfd5c",
   "metadata": {},
   "outputs": [
    {
     "name": "stderr",
     "output_type": "stream",
     "text": [
      "<ipython-input-22-335ae4a4bfed>:1: SettingWithCopyWarning: \n",
      "A value is trying to be set on a copy of a slice from a DataFrame\n",
      "\n",
      "See the caveats in the documentation: https://pandas.pydata.org/pandas-docs/stable/user_guide/indexing.html#returning-a-view-versus-a-copy\n",
      "  apple_test_date_fill['Close'][0] = 0\n",
      "<ipython-input-22-335ae4a4bfed>:2: SettingWithCopyWarning: \n",
      "A value is trying to be set on a copy of a slice from a DataFrame\n",
      "\n",
      "See the caveats in the documentation: https://pandas.pydata.org/pandas-docs/stable/user_guide/indexing.html#returning-a-view-versus-a-copy\n",
      "  apple_test_date_fill['Open'][0] = 0\n",
      "<ipython-input-22-335ae4a4bfed>:3: SettingWithCopyWarning: \n",
      "A value is trying to be set on a copy of a slice from a DataFrame\n",
      "\n",
      "See the caveats in the documentation: https://pandas.pydata.org/pandas-docs/stable/user_guide/indexing.html#returning-a-view-versus-a-copy\n",
      "  apple_test_date_fill['High'][0] = 0\n",
      "<ipython-input-22-335ae4a4bfed>:4: SettingWithCopyWarning: \n",
      "A value is trying to be set on a copy of a slice from a DataFrame\n",
      "\n",
      "See the caveats in the documentation: https://pandas.pydata.org/pandas-docs/stable/user_guide/indexing.html#returning-a-view-versus-a-copy\n",
      "  apple_test_date_fill['Low'][0] = 0\n",
      "<ipython-input-22-335ae4a4bfed>:5: SettingWithCopyWarning: \n",
      "A value is trying to be set on a copy of a slice from a DataFrame\n",
      "\n",
      "See the caveats in the documentation: https://pandas.pydata.org/pandas-docs/stable/user_guide/indexing.html#returning-a-view-versus-a-copy\n",
      "  apple_test_date_fill['Volume'][0] = 0\n",
      "<ipython-input-22-335ae4a4bfed>:6: SettingWithCopyWarning: \n",
      "A value is trying to be set on a copy of a slice from a DataFrame\n",
      "\n",
      "See the caveats in the documentation: https://pandas.pydata.org/pandas-docs/stable/user_guide/indexing.html#returning-a-view-versus-a-copy\n",
      "  apple_test_date_fill['Dividends'][0] = 0\n",
      "<ipython-input-22-335ae4a4bfed>:7: SettingWithCopyWarning: \n",
      "A value is trying to be set on a copy of a slice from a DataFrame\n",
      "\n",
      "See the caveats in the documentation: https://pandas.pydata.org/pandas-docs/stable/user_guide/indexing.html#returning-a-view-versus-a-copy\n",
      "  apple_test_date_fill['Stock Splits'][0] = 0\n"
     ]
    }
   ],
   "source": [
    "apple_test_date_fill['Close'][0] = 0\n",
    "apple_test_date_fill['Open'][0] = 0\n",
    "apple_test_date_fill['High'][0] = 0\n",
    "apple_test_date_fill['Low'][0] = 0\n",
    "apple_test_date_fill['Volume'][0] = 0\n",
    "apple_test_date_fill['Dividends'][0] = 0\n",
    "apple_test_date_fill['Stock Splits'][0] = 0"
   ]
  },
  {
   "cell_type": "code",
   "execution_count": 23,
   "id": "73abeb3a",
   "metadata": {},
   "outputs": [
    {
     "data": {
      "text/html": [
       "<div>\n",
       "<style scoped>\n",
       "    .dataframe tbody tr th:only-of-type {\n",
       "        vertical-align: middle;\n",
       "    }\n",
       "\n",
       "    .dataframe tbody tr th {\n",
       "        vertical-align: top;\n",
       "    }\n",
       "\n",
       "    .dataframe thead th {\n",
       "        text-align: right;\n",
       "    }\n",
       "</style>\n",
       "<table border=\"1\" class=\"dataframe\">\n",
       "  <thead>\n",
       "    <tr style=\"text-align: right;\">\n",
       "      <th></th>\n",
       "      <th>Date</th>\n",
       "      <th>Open</th>\n",
       "      <th>High</th>\n",
       "      <th>Low</th>\n",
       "      <th>Close</th>\n",
       "      <th>Volume</th>\n",
       "      <th>Dividends</th>\n",
       "      <th>Stock Splits</th>\n",
       "      <th>b_score</th>\n",
       "      <th>agreement_score</th>\n",
       "    </tr>\n",
       "  </thead>\n",
       "  <tbody>\n",
       "    <tr>\n",
       "      <th>0</th>\n",
       "      <td>2015-01-01</td>\n",
       "      <td>0.000000</td>\n",
       "      <td>0.000000</td>\n",
       "      <td>0.000000</td>\n",
       "      <td>0.000000</td>\n",
       "      <td>0.0</td>\n",
       "      <td>0.0</td>\n",
       "      <td>0.0</td>\n",
       "      <td>1.307513</td>\n",
       "      <td>0.353238</td>\n",
       "    </tr>\n",
       "    <tr>\n",
       "      <th>1</th>\n",
       "      <td>2015-01-02</td>\n",
       "      <td>107.655779</td>\n",
       "      <td>107.704106</td>\n",
       "      <td>103.751215</td>\n",
       "      <td>105.664841</td>\n",
       "      <td>53204626.0</td>\n",
       "      <td>0.0</td>\n",
       "      <td>0.0</td>\n",
       "      <td>0.658056</td>\n",
       "      <td>0.174863</td>\n",
       "    </tr>\n",
       "    <tr>\n",
       "      <th>2</th>\n",
       "      <td>2015-01-03</td>\n",
       "      <td>107.655779</td>\n",
       "      <td>107.704106</td>\n",
       "      <td>103.751215</td>\n",
       "      <td>105.664841</td>\n",
       "      <td>53204626.0</td>\n",
       "      <td>0.0</td>\n",
       "      <td>0.0</td>\n",
       "      <td>1.849217</td>\n",
       "      <td>0.484746</td>\n",
       "    </tr>\n",
       "    <tr>\n",
       "      <th>3</th>\n",
       "      <td>2015-01-04</td>\n",
       "      <td>107.655779</td>\n",
       "      <td>107.704106</td>\n",
       "      <td>103.751215</td>\n",
       "      <td>105.664841</td>\n",
       "      <td>53204626.0</td>\n",
       "      <td>0.0</td>\n",
       "      <td>0.0</td>\n",
       "      <td>1.633535</td>\n",
       "      <td>0.433180</td>\n",
       "    </tr>\n",
       "    <tr>\n",
       "      <th>4</th>\n",
       "      <td>2015-01-05</td>\n",
       "      <td>104.659684</td>\n",
       "      <td>105.007616</td>\n",
       "      <td>101.876236</td>\n",
       "      <td>102.688072</td>\n",
       "      <td>64285491.0</td>\n",
       "      <td>0.0</td>\n",
       "      <td>0.0</td>\n",
       "      <td>0.960254</td>\n",
       "      <td>0.256857</td>\n",
       "    </tr>\n",
       "    <tr>\n",
       "      <th>...</th>\n",
       "      <td>...</td>\n",
       "      <td>...</td>\n",
       "      <td>...</td>\n",
       "      <td>...</td>\n",
       "      <td>...</td>\n",
       "      <td>...</td>\n",
       "      <td>...</td>\n",
       "      <td>...</td>\n",
       "      <td>...</td>\n",
       "      <td>...</td>\n",
       "    </tr>\n",
       "    <tr>\n",
       "      <th>1821</th>\n",
       "      <td>2019-12-27</td>\n",
       "      <td>287.369591</td>\n",
       "      <td>290.182882</td>\n",
       "      <td>284.408239</td>\n",
       "      <td>286.066589</td>\n",
       "      <td>36592936.0</td>\n",
       "      <td>0.0</td>\n",
       "      <td>0.0</td>\n",
       "      <td>1.258781</td>\n",
       "      <td>0.337526</td>\n",
       "    </tr>\n",
       "    <tr>\n",
       "      <th>1822</th>\n",
       "      <td>2019-12-28</td>\n",
       "      <td>287.369591</td>\n",
       "      <td>290.182882</td>\n",
       "      <td>284.408239</td>\n",
       "      <td>286.066589</td>\n",
       "      <td>36592936.0</td>\n",
       "      <td>0.0</td>\n",
       "      <td>0.0</td>\n",
       "      <td>1.240787</td>\n",
       "      <td>0.338112</td>\n",
       "    </tr>\n",
       "    <tr>\n",
       "      <th>1823</th>\n",
       "      <td>2019-12-29</td>\n",
       "      <td>287.369591</td>\n",
       "      <td>290.182882</td>\n",
       "      <td>284.408239</td>\n",
       "      <td>286.066589</td>\n",
       "      <td>36592936.0</td>\n",
       "      <td>0.0</td>\n",
       "      <td>0.0</td>\n",
       "      <td>1.466337</td>\n",
       "      <td>0.398583</td>\n",
       "    </tr>\n",
       "    <tr>\n",
       "      <th>1824</th>\n",
       "      <td>2019-12-30</td>\n",
       "      <td>285.730945</td>\n",
       "      <td>288.919345</td>\n",
       "      <td>281.545578</td>\n",
       "      <td>287.764404</td>\n",
       "      <td>36059614.0</td>\n",
       "      <td>0.0</td>\n",
       "      <td>0.0</td>\n",
       "      <td>1.287854</td>\n",
       "      <td>0.344539</td>\n",
       "    </tr>\n",
       "    <tr>\n",
       "      <th>1825</th>\n",
       "      <td>2019-12-31</td>\n",
       "      <td>286.194897</td>\n",
       "      <td>289.896586</td>\n",
       "      <td>285.790175</td>\n",
       "      <td>289.866974</td>\n",
       "      <td>25247625.0</td>\n",
       "      <td>0.0</td>\n",
       "      <td>0.0</td>\n",
       "      <td>1.152060</td>\n",
       "      <td>0.309151</td>\n",
       "    </tr>\n",
       "  </tbody>\n",
       "</table>\n",
       "<p>1826 rows × 10 columns</p>\n",
       "</div>"
      ],
      "text/plain": [
       "           Date        Open        High         Low       Close      Volume  \\\n",
       "0    2015-01-01    0.000000    0.000000    0.000000    0.000000         0.0   \n",
       "1    2015-01-02  107.655779  107.704106  103.751215  105.664841  53204626.0   \n",
       "2    2015-01-03  107.655779  107.704106  103.751215  105.664841  53204626.0   \n",
       "3    2015-01-04  107.655779  107.704106  103.751215  105.664841  53204626.0   \n",
       "4    2015-01-05  104.659684  105.007616  101.876236  102.688072  64285491.0   \n",
       "...         ...         ...         ...         ...         ...         ...   \n",
       "1821 2019-12-27  287.369591  290.182882  284.408239  286.066589  36592936.0   \n",
       "1822 2019-12-28  287.369591  290.182882  284.408239  286.066589  36592936.0   \n",
       "1823 2019-12-29  287.369591  290.182882  284.408239  286.066589  36592936.0   \n",
       "1824 2019-12-30  285.730945  288.919345  281.545578  287.764404  36059614.0   \n",
       "1825 2019-12-31  286.194897  289.896586  285.790175  289.866974  25247625.0   \n",
       "\n",
       "      Dividends  Stock Splits   b_score  agreement_score  \n",
       "0           0.0           0.0  1.307513         0.353238  \n",
       "1           0.0           0.0  0.658056         0.174863  \n",
       "2           0.0           0.0  1.849217         0.484746  \n",
       "3           0.0           0.0  1.633535         0.433180  \n",
       "4           0.0           0.0  0.960254         0.256857  \n",
       "...         ...           ...       ...              ...  \n",
       "1821        0.0           0.0  1.258781         0.337526  \n",
       "1822        0.0           0.0  1.240787         0.338112  \n",
       "1823        0.0           0.0  1.466337         0.398583  \n",
       "1824        0.0           0.0  1.287854         0.344539  \n",
       "1825        0.0           0.0  1.152060         0.309151  \n",
       "\n",
       "[1826 rows x 10 columns]"
      ]
     },
     "execution_count": 23,
     "metadata": {},
     "output_type": "execute_result"
    }
   ],
   "source": [
    "apple_test_date_fill"
   ]
  },
  {
   "cell_type": "code",
   "execution_count": 33,
   "id": "4d8c15e4",
   "metadata": {},
   "outputs": [],
   "source": [
    "#aapl_close_diff = hist['Close'].diff()\n",
    "first_diffs = apple_test_date_fill['Close'][1:].diff()\n",
    "#first_diffs = apple_test_date_fill.Close.values[1:] - apple_test_date_fill.Close.values[:-1]\n",
    "first_diffs = np.append(first_diffs, apple_test_date_fill.Close.values[-1]) \n",
    "apple_test_date_fill['First_Difference'] = first_diffs"
   ]
  },
  {
   "cell_type": "code",
   "execution_count": 27,
   "id": "8fa3a2c0",
   "metadata": {},
   "outputs": [],
   "source": [
    "first_diffs_agreementscore = apple_test_date_fill.agreement_score.values[1:] - apple_test_date_fill.agreement_score.values[:-1]\n",
    "first_diffs_agreementscore = np.append(first_diffs_agreementscore, apple_test_date_fill.agreement_score.values[-1]) \n",
    "apple_test_date_fill['agreement_score'] = first_diffs_agreementscore"
   ]
  },
  {
   "cell_type": "code",
   "execution_count": 28,
   "id": "6fc26750",
   "metadata": {},
   "outputs": [],
   "source": [
    "#apple_test_date_fill = np.diff(apple_test_date_fill)[1:]"
   ]
  },
  {
   "cell_type": "code",
   "execution_count": 29,
   "id": "5f11f9bf",
   "metadata": {},
   "outputs": [
    {
     "data": {
      "text/html": [
       "<div>\n",
       "<style scoped>\n",
       "    .dataframe tbody tr th:only-of-type {\n",
       "        vertical-align: middle;\n",
       "    }\n",
       "\n",
       "    .dataframe tbody tr th {\n",
       "        vertical-align: top;\n",
       "    }\n",
       "\n",
       "    .dataframe thead th {\n",
       "        text-align: right;\n",
       "    }\n",
       "</style>\n",
       "<table border=\"1\" class=\"dataframe\">\n",
       "  <thead>\n",
       "    <tr style=\"text-align: right;\">\n",
       "      <th></th>\n",
       "      <th>Date</th>\n",
       "      <th>Open</th>\n",
       "      <th>High</th>\n",
       "      <th>Low</th>\n",
       "      <th>Close</th>\n",
       "      <th>Volume</th>\n",
       "      <th>Dividends</th>\n",
       "      <th>Stock Splits</th>\n",
       "      <th>b_score</th>\n",
       "      <th>agreement_score</th>\n",
       "      <th>First_Difference</th>\n",
       "    </tr>\n",
       "  </thead>\n",
       "  <tbody>\n",
       "    <tr>\n",
       "      <th>0</th>\n",
       "      <td>2015-01-01</td>\n",
       "      <td>0.000000</td>\n",
       "      <td>0.000000</td>\n",
       "      <td>0.000000</td>\n",
       "      <td>0.000000</td>\n",
       "      <td>0.0</td>\n",
       "      <td>0.0</td>\n",
       "      <td>0.0</td>\n",
       "      <td>1.307513</td>\n",
       "      <td>-0.178375</td>\n",
       "      <td>NaN</td>\n",
       "    </tr>\n",
       "    <tr>\n",
       "      <th>1</th>\n",
       "      <td>2015-01-02</td>\n",
       "      <td>107.655779</td>\n",
       "      <td>107.704106</td>\n",
       "      <td>103.751215</td>\n",
       "      <td>105.664841</td>\n",
       "      <td>53204626.0</td>\n",
       "      <td>0.0</td>\n",
       "      <td>0.0</td>\n",
       "      <td>0.658056</td>\n",
       "      <td>0.309883</td>\n",
       "      <td>0.000000</td>\n",
       "    </tr>\n",
       "    <tr>\n",
       "      <th>2</th>\n",
       "      <td>2015-01-03</td>\n",
       "      <td>107.655779</td>\n",
       "      <td>107.704106</td>\n",
       "      <td>103.751215</td>\n",
       "      <td>105.664841</td>\n",
       "      <td>53204626.0</td>\n",
       "      <td>0.0</td>\n",
       "      <td>0.0</td>\n",
       "      <td>1.849217</td>\n",
       "      <td>-0.051566</td>\n",
       "      <td>0.000000</td>\n",
       "    </tr>\n",
       "    <tr>\n",
       "      <th>3</th>\n",
       "      <td>2015-01-04</td>\n",
       "      <td>107.655779</td>\n",
       "      <td>107.704106</td>\n",
       "      <td>103.751215</td>\n",
       "      <td>105.664841</td>\n",
       "      <td>53204626.0</td>\n",
       "      <td>0.0</td>\n",
       "      <td>0.0</td>\n",
       "      <td>1.633535</td>\n",
       "      <td>-0.176323</td>\n",
       "      <td>-2.976768</td>\n",
       "    </tr>\n",
       "    <tr>\n",
       "      <th>4</th>\n",
       "      <td>2015-01-05</td>\n",
       "      <td>104.659684</td>\n",
       "      <td>105.007616</td>\n",
       "      <td>101.876236</td>\n",
       "      <td>102.688072</td>\n",
       "      <td>64285491.0</td>\n",
       "      <td>0.0</td>\n",
       "      <td>0.0</td>\n",
       "      <td>0.960254</td>\n",
       "      <td>0.040987</td>\n",
       "      <td>0.009689</td>\n",
       "    </tr>\n",
       "    <tr>\n",
       "      <th>...</th>\n",
       "      <td>...</td>\n",
       "      <td>...</td>\n",
       "      <td>...</td>\n",
       "      <td>...</td>\n",
       "      <td>...</td>\n",
       "      <td>...</td>\n",
       "      <td>...</td>\n",
       "      <td>...</td>\n",
       "      <td>...</td>\n",
       "      <td>...</td>\n",
       "      <td>...</td>\n",
       "    </tr>\n",
       "    <tr>\n",
       "      <th>1821</th>\n",
       "      <td>2019-12-27</td>\n",
       "      <td>287.369591</td>\n",
       "      <td>290.182882</td>\n",
       "      <td>284.408239</td>\n",
       "      <td>286.066589</td>\n",
       "      <td>36592936.0</td>\n",
       "      <td>0.0</td>\n",
       "      <td>0.0</td>\n",
       "      <td>1.258781</td>\n",
       "      <td>0.000586</td>\n",
       "      <td>0.000000</td>\n",
       "    </tr>\n",
       "    <tr>\n",
       "      <th>1822</th>\n",
       "      <td>2019-12-28</td>\n",
       "      <td>287.369591</td>\n",
       "      <td>290.182882</td>\n",
       "      <td>284.408239</td>\n",
       "      <td>286.066589</td>\n",
       "      <td>36592936.0</td>\n",
       "      <td>0.0</td>\n",
       "      <td>0.0</td>\n",
       "      <td>1.240787</td>\n",
       "      <td>0.060471</td>\n",
       "      <td>0.000000</td>\n",
       "    </tr>\n",
       "    <tr>\n",
       "      <th>1823</th>\n",
       "      <td>2019-12-29</td>\n",
       "      <td>287.369591</td>\n",
       "      <td>290.182882</td>\n",
       "      <td>284.408239</td>\n",
       "      <td>286.066589</td>\n",
       "      <td>36592936.0</td>\n",
       "      <td>0.0</td>\n",
       "      <td>0.0</td>\n",
       "      <td>1.466337</td>\n",
       "      <td>-0.054045</td>\n",
       "      <td>1.697815</td>\n",
       "    </tr>\n",
       "    <tr>\n",
       "      <th>1824</th>\n",
       "      <td>2019-12-30</td>\n",
       "      <td>285.730945</td>\n",
       "      <td>288.919345</td>\n",
       "      <td>281.545578</td>\n",
       "      <td>287.764404</td>\n",
       "      <td>36059614.0</td>\n",
       "      <td>0.0</td>\n",
       "      <td>0.0</td>\n",
       "      <td>1.287854</td>\n",
       "      <td>-0.035388</td>\n",
       "      <td>2.102570</td>\n",
       "    </tr>\n",
       "    <tr>\n",
       "      <th>1825</th>\n",
       "      <td>2019-12-31</td>\n",
       "      <td>286.194897</td>\n",
       "      <td>289.896586</td>\n",
       "      <td>285.790175</td>\n",
       "      <td>289.866974</td>\n",
       "      <td>25247625.0</td>\n",
       "      <td>0.0</td>\n",
       "      <td>0.0</td>\n",
       "      <td>1.152060</td>\n",
       "      <td>0.309151</td>\n",
       "      <td>289.866974</td>\n",
       "    </tr>\n",
       "  </tbody>\n",
       "</table>\n",
       "<p>1826 rows × 11 columns</p>\n",
       "</div>"
      ],
      "text/plain": [
       "           Date        Open        High         Low       Close      Volume  \\\n",
       "0    2015-01-01    0.000000    0.000000    0.000000    0.000000         0.0   \n",
       "1    2015-01-02  107.655779  107.704106  103.751215  105.664841  53204626.0   \n",
       "2    2015-01-03  107.655779  107.704106  103.751215  105.664841  53204626.0   \n",
       "3    2015-01-04  107.655779  107.704106  103.751215  105.664841  53204626.0   \n",
       "4    2015-01-05  104.659684  105.007616  101.876236  102.688072  64285491.0   \n",
       "...         ...         ...         ...         ...         ...         ...   \n",
       "1821 2019-12-27  287.369591  290.182882  284.408239  286.066589  36592936.0   \n",
       "1822 2019-12-28  287.369591  290.182882  284.408239  286.066589  36592936.0   \n",
       "1823 2019-12-29  287.369591  290.182882  284.408239  286.066589  36592936.0   \n",
       "1824 2019-12-30  285.730945  288.919345  281.545578  287.764404  36059614.0   \n",
       "1825 2019-12-31  286.194897  289.896586  285.790175  289.866974  25247625.0   \n",
       "\n",
       "      Dividends  Stock Splits   b_score  agreement_score  First_Difference  \n",
       "0           0.0           0.0  1.307513        -0.178375               NaN  \n",
       "1           0.0           0.0  0.658056         0.309883          0.000000  \n",
       "2           0.0           0.0  1.849217        -0.051566          0.000000  \n",
       "3           0.0           0.0  1.633535        -0.176323         -2.976768  \n",
       "4           0.0           0.0  0.960254         0.040987          0.009689  \n",
       "...         ...           ...       ...              ...               ...  \n",
       "1821        0.0           0.0  1.258781         0.000586          0.000000  \n",
       "1822        0.0           0.0  1.240787         0.060471          0.000000  \n",
       "1823        0.0           0.0  1.466337        -0.054045          1.697815  \n",
       "1824        0.0           0.0  1.287854        -0.035388          2.102570  \n",
       "1825        0.0           0.0  1.152060         0.309151        289.866974  \n",
       "\n",
       "[1826 rows x 11 columns]"
      ]
     },
     "execution_count": 29,
     "metadata": {},
     "output_type": "execute_result"
    }
   ],
   "source": [
    "apple_test_date_fill"
   ]
  },
  {
   "cell_type": "code",
   "execution_count": 30,
   "id": "81e2af4a",
   "metadata": {},
   "outputs": [
    {
     "data": {
      "text/plain": [
       "[<matplotlib.lines.Line2D at 0x192d1e6f790>]"
      ]
     },
     "execution_count": 30,
     "metadata": {},
     "output_type": "execute_result"
    },
    {
     "data": {
      "image/png": "[encoded data removed]",
      "text/plain": [
       "<Figure size 720x288 with 1 Axes>"
      ]
     },
     "metadata": {
      "needs_background": "light"
     },
     "output_type": "display_data"
    }
   ],
   "source": [
    "plt.figure(figsize=(10,4))\n",
    "plt.plot(apple_test_date_fill['First_Difference'][1:-1], color='b')\n",
    "plt.plot(apple_test_date_fill['agreement_score'], color='r')"
   ]
  },
  {
   "cell_type": "code",
   "execution_count": 31,
   "id": "4a1f54db",
   "metadata": {},
   "outputs": [
    {
     "name": "stdout",
     "output_type": "stream",
     "text": [
      "mean1=0.038576, mean2=0.480709\n",
      "variance1=1.887826, variance2=98.213383\n"
     ]
    }
   ],
   "source": [
    "split = round(len(apple_test_date_fill.First_Difference) / 2)\n",
    "X1, X2 = apple_test_date_fill.First_Difference[0:split], apple_test_date_fill.First_Difference[split:]\n",
    "mean1, mean2 = X1.mean(), X2.mean()\n",
    "var1, var2 = X1.var(), X2.var()\n",
    "print('mean1=%f, mean2=%f' % (mean1, mean2))\n",
    "print('variance1=%f, variance2=%f' % (var1, var2))"
   ]
  },
  {
   "cell_type": "markdown",
   "id": "d10c9ca2",
   "metadata": {},
   "source": [
    "## Granger Causality Test"
   ]
  },
  {
   "cell_type": "code",
   "execution_count": 34,
   "id": "337690bf",
   "metadata": {},
   "outputs": [],
   "source": [
    "from statsmodels.tsa.stattools import grangercausalitytests\n",
    "ts_df = pd.DataFrame(columns=['t2', 't1'], data=zip(apple_test_date_fill['First_Difference'][1:-1],apple_test_date_fill['agreement_score'][1:-1]))"
   ]
  },
  {
   "cell_type": "code",
   "execution_count": 35,
   "id": "429a7f08",
   "metadata": {},
   "outputs": [
    {
     "data": {
      "text/html": [
       "<div>\n",
       "<style scoped>\n",
       "    .dataframe tbody tr th:only-of-type {\n",
       "        vertical-align: middle;\n",
       "    }\n",
       "\n",
       "    .dataframe tbody tr th {\n",
       "        vertical-align: top;\n",
       "    }\n",
       "\n",
       "    .dataframe thead th {\n",
       "        text-align: right;\n",
       "    }\n",
       "</style>\n",
       "<table border=\"1\" class=\"dataframe\">\n",
       "  <thead>\n",
       "    <tr style=\"text-align: right;\">\n",
       "      <th></th>\n",
       "      <th>t2</th>\n",
       "      <th>t1</th>\n",
       "    </tr>\n",
       "  </thead>\n",
       "  <tbody>\n",
       "    <tr>\n",
       "      <th>0</th>\n",
       "      <td>0.000000</td>\n",
       "      <td>0.309883</td>\n",
       "    </tr>\n",
       "    <tr>\n",
       "      <th>1</th>\n",
       "      <td>0.000000</td>\n",
       "      <td>-0.051566</td>\n",
       "    </tr>\n",
       "    <tr>\n",
       "      <th>2</th>\n",
       "      <td>-2.976768</td>\n",
       "      <td>-0.176323</td>\n",
       "    </tr>\n",
       "    <tr>\n",
       "      <th>3</th>\n",
       "      <td>0.009689</td>\n",
       "      <td>0.040987</td>\n",
       "    </tr>\n",
       "    <tr>\n",
       "      <th>4</th>\n",
       "      <td>1.440041</td>\n",
       "      <td>-0.021049</td>\n",
       "    </tr>\n",
       "    <tr>\n",
       "      <th>...</th>\n",
       "      <td>...</td>\n",
       "      <td>...</td>\n",
       "    </tr>\n",
       "    <tr>\n",
       "      <th>1819</th>\n",
       "      <td>-0.108612</td>\n",
       "      <td>0.035116</td>\n",
       "    </tr>\n",
       "    <tr>\n",
       "      <th>1820</th>\n",
       "      <td>0.000000</td>\n",
       "      <td>0.000586</td>\n",
       "    </tr>\n",
       "    <tr>\n",
       "      <th>1821</th>\n",
       "      <td>0.000000</td>\n",
       "      <td>0.060471</td>\n",
       "    </tr>\n",
       "    <tr>\n",
       "      <th>1822</th>\n",
       "      <td>1.697815</td>\n",
       "      <td>-0.054045</td>\n",
       "    </tr>\n",
       "    <tr>\n",
       "      <th>1823</th>\n",
       "      <td>2.102570</td>\n",
       "      <td>-0.035388</td>\n",
       "    </tr>\n",
       "  </tbody>\n",
       "</table>\n",
       "<p>1824 rows × 2 columns</p>\n",
       "</div>"
      ],
      "text/plain": [
       "            t2        t1\n",
       "0     0.000000  0.309883\n",
       "1     0.000000 -0.051566\n",
       "2    -2.976768 -0.176323\n",
       "3     0.009689  0.040987\n",
       "4     1.440041 -0.021049\n",
       "...        ...       ...\n",
       "1819 -0.108612  0.035116\n",
       "1820  0.000000  0.000586\n",
       "1821  0.000000  0.060471\n",
       "1822  1.697815 -0.054045\n",
       "1823  2.102570 -0.035388\n",
       "\n",
       "[1824 rows x 2 columns]"
      ]
     },
     "execution_count": 35,
     "metadata": {},
     "output_type": "execute_result"
    }
   ],
   "source": [
    "ts_df"
   ]
  },
  {
   "cell_type": "code",
   "execution_count": 36,
   "id": "801d9a03",
   "metadata": {},
   "outputs": [
    {
     "name": "stdout",
     "output_type": "stream",
     "text": [
      "\n",
      "Granger Causality\n",
      "number of lags (no zero) 1\n",
      "ssr based F test:         F=1.2185  , p=0.2698  , df_denom=1820, df_num=1\n",
      "ssr based chi2 test:   chi2=1.2205  , p=0.2693  , df=1\n",
      "likelihood ratio test: chi2=1.2201  , p=0.2693  , df=1\n",
      "parameter F test:         F=1.2185  , p=0.2698  , df_denom=1820, df_num=1\n",
      "\n",
      "Granger Causality\n",
      "number of lags (no zero) 2\n",
      "ssr based F test:         F=0.5205  , p=0.5943  , df_denom=1817, df_num=2\n",
      "ssr based chi2 test:   chi2=1.0438  , p=0.5934  , df=2\n",
      "likelihood ratio test: chi2=1.0435  , p=0.5935  , df=2\n",
      "parameter F test:         F=0.5205  , p=0.5943  , df_denom=1817, df_num=2\n",
      "\n",
      "Granger Causality\n",
      "number of lags (no zero) 3\n",
      "ssr based F test:         F=0.4549  , p=0.7138  , df_denom=1814, df_num=3\n",
      "ssr based chi2 test:   chi2=1.3700  , p=0.7126  , df=3\n",
      "likelihood ratio test: chi2=1.3695  , p=0.7127  , df=3\n",
      "parameter F test:         F=0.4549  , p=0.7138  , df_denom=1814, df_num=3\n",
      "\n",
      "Granger Causality\n",
      "number of lags (no zero) 4\n",
      "ssr based F test:         F=0.7396  , p=0.5650  , df_denom=1811, df_num=4\n",
      "ssr based chi2 test:   chi2=2.9730  , p=0.5624  , df=4\n",
      "likelihood ratio test: chi2=2.9705  , p=0.5628  , df=4\n",
      "parameter F test:         F=0.7396  , p=0.5650  , df_denom=1811, df_num=4\n",
      "\n",
      "Granger Causality\n",
      "number of lags (no zero) 5\n",
      "ssr based F test:         F=0.9812  , p=0.4278  , df_denom=1808, df_num=5\n",
      "ssr based chi2 test:   chi2=4.9356  , p=0.4238  , df=5\n",
      "likelihood ratio test: chi2=4.9289  , p=0.4246  , df=5\n",
      "parameter F test:         F=0.9812  , p=0.4278  , df_denom=1808, df_num=5\n",
      "\n",
      "Granger Causality\n",
      "number of lags (no zero) 6\n",
      "ssr based F test:         F=0.7912  , p=0.5768  , df_denom=1805, df_num=6\n",
      "ssr based chi2 test:   chi2=4.7813  , p=0.5721  , df=6\n",
      "likelihood ratio test: chi2=4.7751  , p=0.5730  , df=6\n",
      "parameter F test:         F=0.7912  , p=0.5768  , df_denom=1805, df_num=6\n",
      "\n",
      "Granger Causality\n",
      "number of lags (no zero) 7\n",
      "ssr based F test:         F=0.7701  , p=0.6125  , df_denom=1802, df_num=7\n",
      "ssr based chi2 test:   chi2=5.4355  , p=0.6070  , df=7\n",
      "likelihood ratio test: chi2=5.4274  , p=0.6080  , df=7\n",
      "parameter F test:         F=0.7701  , p=0.6125  , df_denom=1802, df_num=7\n",
      "\n",
      "Granger Causality\n",
      "number of lags (no zero) 8\n",
      "ssr based F test:         F=1.0852  , p=0.3704  , df_denom=1799, df_num=8\n",
      "ssr based chi2 test:   chi2=8.7639  , p=0.3626  , df=8\n",
      "likelihood ratio test: chi2=8.7429  , p=0.3644  , df=8\n",
      "parameter F test:         F=1.0852  , p=0.3704  , df_denom=1799, df_num=8\n",
      "\n",
      "Granger Causality\n",
      "number of lags (no zero) 9\n",
      "ssr based F test:         F=1.0499  , p=0.3974  , df_denom=1796, df_num=9\n",
      "ssr based chi2 test:   chi2=9.5495  , p=0.3882  , df=9\n",
      "likelihood ratio test: chi2=9.5244  , p=0.3903  , df=9\n",
      "parameter F test:         F=1.0499  , p=0.3974  , df_denom=1796, df_num=9\n",
      "\n",
      "Granger Causality\n",
      "number of lags (no zero) 10\n",
      "ssr based F test:         F=0.9292  , p=0.5050  , df_denom=1793, df_num=10\n",
      "ssr based chi2 test:   chi2=9.4004  , p=0.4946  , df=10\n",
      "likelihood ratio test: chi2=9.3762  , p=0.4968  , df=10\n",
      "parameter F test:         F=0.9292  , p=0.5050  , df_denom=1793, df_num=10\n"
     ]
    }
   ],
   "source": [
    "gc_res = grangercausalitytests(ts_df, 10)"
   ]
  },
  {
   "cell_type": "code",
   "execution_count": 165,
   "id": "184fcd05",
   "metadata": {},
   "outputs": [],
   "source": [
    "apple_test_date_fill.to_csv('../twitter_processed.CSV',index=False)"
   ]
  },
  {
   "cell_type": "code",
   "execution_count": null,
   "id": "c50c27cb",
   "metadata": {},
   "outputs": [],
   "source": []
  }
 ],
 "metadata": {
  "kernelspec": {
   "display_name": "Python 3",
   "language": "python",
   "name": "python3"
  },
  "language_info": {
   "codemirror_mode": {
    "name": "ipython",
    "version": 3
   },
   "file_extension": ".py",
   "mimetype": "text/x-python",
   "name": "python",
   "nbconvert_exporter": "python",
   "pygments_lexer": "ipython3",
   "version": "3.8.8"
  }
 },
 "nbformat": 4,
 "nbformat_minor": 5
}
